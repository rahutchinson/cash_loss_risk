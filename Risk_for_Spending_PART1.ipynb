{
  "nbformat": 4,
  "nbformat_minor": 0,
  "metadata": {
    "colab": {
      "name": "Risk_for_Spending_PART1",
      "version": "0.3.2",
      "provenance": [],
      "collapsed_sections": [
        "27judBmf-aoK"
      ],
      "toc_visible": true,
      "include_colab_link": true
    },
    "kernelspec": {
      "name": "python3",
      "display_name": "Python 3"
    }
  },
  "cells": [
    {
      "cell_type": "markdown",
      "metadata": {
        "id": "view-in-github",
        "colab_type": "text"
      },
      "source": [
        "<a href=\"https://colab.research.google.com/github/rahutchinson/cash_loss_risk/blob/master/Risk_for_Spending_PART1.ipynb\" target=\"_parent\"><img src=\"https://colab.research.google.com/assets/colab-badge.svg\" alt=\"Open In Colab\"/></a>"
      ]
    },
    {
      "cell_type": "markdown",
      "metadata": {
        "id": "tGA-a3KyMz1K",
        "colab_type": "text"
      },
      "source": [
        "\n",
        "## Goal for Project\n",
        " - to wake up every moring to a percent risk of a large purchase or lots of purchases  to try to fight spending!\n",
        " - use an unsupervised neural network"
      ]
    },
    {
      "cell_type": "markdown",
      "metadata": {
        "id": "Q3nJlH82_DdI",
        "colab_type": "text"
      },
      "source": [
        "# Setup"
      ]
    },
    {
      "cell_type": "code",
      "metadata": {
        "id": "r42gA-A9MsK-",
        "colab_type": "code",
        "outputId": "51440693-d3a2-4bf4-bd17-87540ec71975",
        "cellView": "both",
        "colab": {
          "base_uri": "https://localhost:8080/",
          "height": 16
        }
      },
      "source": [
        "#@title Initial Imports\n",
        "import pandas as pd\n",
        "import io\n",
        "import datetime as dt\n",
        "import plotly.offline as py\n",
        "import plotly.graph_objs as go\n",
        "py.init_notebook_mode(connected=True)\n",
        "def configure_plotly_browser_state():\n",
        "  import IPython\n",
        "  display(IPython.core.display.HTML('''\n",
        "        <script src=\"/static/components/requirejs/require.js\"></script>\n",
        "        <script>\n",
        "          requirejs.config({\n",
        "            paths: {\n",
        "              base: '/static/base',\n",
        "              plotly: 'https://cdn.plot.ly/plotly-1.5.1.min.js?noext',\n",
        "            },\n",
        "          });\n",
        "        </script>\n",
        "        '''))\n",
        "  \n",
        "  "
      ],
      "execution_count": 0,
      "outputs": [
        {
          "output_type": "display_data",
          "data": {
            "text/vnd.plotly.v1+html": "<script type=\"text/javascript\">window.PlotlyConfig = {MathJaxConfig: 'local'};</script><script type=\"text/javascript\">if (window.MathJax) {MathJax.Hub.Config({SVG: {font: \"STIX-Web\"}});}</script><script>requirejs.config({paths: { 'plotly': ['https://cdn.plot.ly/plotly-latest.min']},});if(!window._Plotly) {require(['plotly'],function(plotly) {window._Plotly=plotly;});}</script>",
            "text/html": [
              "<script type=\"text/javascript\">window.PlotlyConfig = {MathJaxConfig: 'local'};</script><script type=\"text/javascript\">if (window.MathJax) {MathJax.Hub.Config({SVG: {font: \"STIX-Web\"}});}</script><script>requirejs.config({paths: { 'plotly': ['https://cdn.plot.ly/plotly-latest.min']},});if(!window._Plotly) {require(['plotly'],function(plotly) {window._Plotly=plotly;});}</script>"
            ]
          },
          "metadata": {
            "tags": []
          }
        }
      ]
    },
    {
      "cell_type": "code",
      "metadata": {
        "id": "KuE1693kPaVa",
        "colab_type": "code",
        "outputId": "4e5f7faf-accc-4eaf-965d-9340168ade32",
        "colab": {
          "base_uri": "https://localhost:8080/",
          "height": 125
        }
      },
      "source": [
        "from google.colab import drive\n",
        "drive.mount('/content/gdrive')"
      ],
      "execution_count": 0,
      "outputs": [
        {
          "output_type": "stream",
          "text": [
            "Go to this URL in a browser: https://accounts.google.com/o/oauth2/auth?client_id=947318989803-6bn6qk8qdgf4n4g3pfee6491hc0brc4i.apps.googleusercontent.com&redirect_uri=urn%3Aietf%3Awg%3Aoauth%3A2.0%3Aoob&scope=email%20https%3A%2F%2Fwww.googleapis.com%2Fauth%2Fdocs.test%20https%3A%2F%2Fwww.googleapis.com%2Fauth%2Fdrive%20https%3A%2F%2Fwww.googleapis.com%2Fauth%2Fdrive.photos.readonly%20https%3A%2F%2Fwww.googleapis.com%2Fauth%2Fpeopleapi.readonly&response_type=code\n",
            "\n",
            "Enter your authorization code:\n",
            "··········\n",
            "Mounted at /content/gdrive\n"
          ],
          "name": "stdout"
        }
      ]
    },
    {
      "cell_type": "code",
      "metadata": {
        "id": "-kgVpySs8Hrv",
        "colab_type": "code",
        "outputId": "46f2f629-6578-4b0a-833f-01c1d6c62198",
        "colab": {
          "base_uri": "https://localhost:8080/",
          "height": 215
        }
      },
      "source": [
        "\n",
        "\n",
        "df_amex.head()"
      ],
      "execution_count": 0,
      "outputs": [
        {
          "output_type": "stream",
          "text": [
            "b'Skipping line 20: expected 5 fields, saw 6\\nSkipping line 45: expected 5 fields, saw 6\\n'\n"
          ],
          "name": "stderr"
        },
        {
          "output_type": "execute_result",
          "data": {
            "text/html": [
              "<div>\n",
              "<style scoped>\n",
              "    .dataframe tbody tr th:only-of-type {\n",
              "        vertical-align: middle;\n",
              "    }\n",
              "\n",
              "    .dataframe tbody tr th {\n",
              "        vertical-align: top;\n",
              "    }\n",
              "\n",
              "    .dataframe thead th {\n",
              "        text-align: right;\n",
              "    }\n",
              "</style>\n",
              "<table border=\"1\" class=\"dataframe\">\n",
              "  <thead>\n",
              "    <tr style=\"text-align: right;\">\n",
              "      <th></th>\n",
              "      <th>0</th>\n",
              "      <th>7</th>\n",
              "    </tr>\n",
              "  </thead>\n",
              "  <tbody>\n",
              "    <tr>\n",
              "      <th>0</th>\n",
              "      <td>11/15/2016  Tue</td>\n",
              "      <td>1484.76</td>\n",
              "    </tr>\n",
              "    <tr>\n",
              "      <th>1</th>\n",
              "      <td>11/17/2016  Thu</td>\n",
              "      <td>-100.00</td>\n",
              "    </tr>\n",
              "    <tr>\n",
              "      <th>2</th>\n",
              "      <td>11/21/2016  Mon</td>\n",
              "      <td>13.99</td>\n",
              "    </tr>\n",
              "    <tr>\n",
              "      <th>3</th>\n",
              "      <td>11/22/2016  Tue</td>\n",
              "      <td>-1.40</td>\n",
              "    </tr>\n",
              "    <tr>\n",
              "      <th>4</th>\n",
              "      <td>11/23/2016  Wed</td>\n",
              "      <td>15.14</td>\n",
              "    </tr>\n",
              "  </tbody>\n",
              "</table>\n",
              "</div>"
            ],
            "text/plain": [
              "                 0        7\n",
              "0  11/15/2016  Tue  1484.76\n",
              "1  11/17/2016  Thu  -100.00\n",
              "2  11/21/2016  Mon    13.99\n",
              "3  11/22/2016  Tue    -1.40\n",
              "4  11/23/2016  Wed    15.14"
            ]
          },
          "metadata": {
            "tags": []
          },
          "execution_count": 17
        }
      ]
    },
    {
      "cell_type": "markdown",
      "metadata": {
        "id": "8mmAIAGm-Qp_",
        "colab_type": "text"
      },
      "source": [
        "# Data Cleansing\n",
        "\n"
      ]
    },
    {
      "cell_type": "markdown",
      "metadata": {
        "id": "Bcz-figv8-xL",
        "colab_type": "text"
      },
      "source": [
        "Below Cell is for engineering the data in to a workable format\n",
        "  - Date\n",
        "  - Money Spent"
      ]
    },
    {
      "cell_type": "code",
      "metadata": {
        "id": "T9DJRg7iNFZo",
        "colab_type": "code",
        "colab": {}
      },
      "source": [
        "df_amex = pd.read_csv('/content/gdrive/My Drive/Colab_Notebooks/amex.csv', header=None, usecols=[0,7])\n",
        "df_amex.columns = ['date', 'cost']\n",
        "df_amex.cost = pd.to_numeric(df_amex.cost)\n",
        "df_amex = df_amex[df_amex.cost>0]\n",
        "df_amex['date'] = df_amex.date.apply(lambda x: pd.to_datetime(x))\n",
        "df_amex['moneys'] = df_amex.cost\n",
        "df_amex = df_amex[['date', 'moneys']]"
      ],
      "execution_count": 0,
      "outputs": []
    },
    {
      "cell_type": "code",
      "metadata": {
        "id": "OiFeaw3F-qwG",
        "colab_type": "code",
        "outputId": "33544da7-e4b9-453a-e8aa-3c27a9a55ca5",
        "colab": {
          "base_uri": "https://localhost:8080/",
          "height": 416
        }
      },
      "source": [
        "df_chase = pd.read_csv('/content/gdrive/My Drive/Colab_Notebooks/chase.CSV', error_bad_lines=False)\n",
        "df_chase = df_chase[df_chase['Type'] == 'Sale']\n",
        "df_chase['date'] = df_chase['Trans Date'].apply(lambda x: pd.to_datetime(x))\n",
        "df_chase['moneys'] = pd.to_numeric(df_chase['Amount'])\n",
        "df_chase = df_chase[['date', 'moneys']]\n",
        "\n",
        "\n",
        "dfs = [df_chase, df_amex]\n",
        "for df in dfs:\n",
        "  display(df.head())"
      ],
      "execution_count": 0,
      "outputs": [
        {
          "output_type": "stream",
          "text": [
            "b'Skipping line 20: expected 5 fields, saw 6\\nSkipping line 45: expected 5 fields, saw 6\\n'\n"
          ],
          "name": "stderr"
        },
        {
          "output_type": "display_data",
          "data": {
            "text/html": [
              "<div>\n",
              "<style scoped>\n",
              "    .dataframe tbody tr th:only-of-type {\n",
              "        vertical-align: middle;\n",
              "    }\n",
              "\n",
              "    .dataframe tbody tr th {\n",
              "        vertical-align: top;\n",
              "    }\n",
              "\n",
              "    .dataframe thead th {\n",
              "        text-align: right;\n",
              "    }\n",
              "</style>\n",
              "<table border=\"1\" class=\"dataframe\">\n",
              "  <thead>\n",
              "    <tr style=\"text-align: right;\">\n",
              "      <th></th>\n",
              "      <th>date</th>\n",
              "      <th>moneys</th>\n",
              "    </tr>\n",
              "  </thead>\n",
              "  <tbody>\n",
              "    <tr>\n",
              "      <th>0</th>\n",
              "      <td>2018-11-09</td>\n",
              "      <td>-26.76</td>\n",
              "    </tr>\n",
              "    <tr>\n",
              "      <th>1</th>\n",
              "      <td>2018-11-09</td>\n",
              "      <td>-9.06</td>\n",
              "    </tr>\n",
              "    <tr>\n",
              "      <th>2</th>\n",
              "      <td>2018-11-09</td>\n",
              "      <td>-7.56</td>\n",
              "    </tr>\n",
              "    <tr>\n",
              "      <th>3</th>\n",
              "      <td>2018-11-09</td>\n",
              "      <td>-9.54</td>\n",
              "    </tr>\n",
              "    <tr>\n",
              "      <th>4</th>\n",
              "      <td>2018-11-05</td>\n",
              "      <td>-8.83</td>\n",
              "    </tr>\n",
              "  </tbody>\n",
              "</table>\n",
              "</div>"
            ],
            "text/plain": [
              "        date  moneys\n",
              "0 2018-11-09  -26.76\n",
              "1 2018-11-09   -9.06\n",
              "2 2018-11-09   -7.56\n",
              "3 2018-11-09   -9.54\n",
              "4 2018-11-05   -8.83"
            ]
          },
          "metadata": {
            "tags": []
          }
        },
        {
          "output_type": "display_data",
          "data": {
            "text/html": [
              "<div>\n",
              "<style scoped>\n",
              "    .dataframe tbody tr th:only-of-type {\n",
              "        vertical-align: middle;\n",
              "    }\n",
              "\n",
              "    .dataframe tbody tr th {\n",
              "        vertical-align: top;\n",
              "    }\n",
              "\n",
              "    .dataframe thead th {\n",
              "        text-align: right;\n",
              "    }\n",
              "</style>\n",
              "<table border=\"1\" class=\"dataframe\">\n",
              "  <thead>\n",
              "    <tr style=\"text-align: right;\">\n",
              "      <th></th>\n",
              "      <th>date</th>\n",
              "      <th>moneys</th>\n",
              "    </tr>\n",
              "  </thead>\n",
              "  <tbody>\n",
              "    <tr>\n",
              "      <th>0</th>\n",
              "      <td>2016-11-15</td>\n",
              "      <td>1484.76</td>\n",
              "    </tr>\n",
              "    <tr>\n",
              "      <th>2</th>\n",
              "      <td>2016-11-21</td>\n",
              "      <td>13.99</td>\n",
              "    </tr>\n",
              "    <tr>\n",
              "      <th>4</th>\n",
              "      <td>2016-11-23</td>\n",
              "      <td>15.14</td>\n",
              "    </tr>\n",
              "    <tr>\n",
              "      <th>5</th>\n",
              "      <td>2016-11-23</td>\n",
              "      <td>6.00</td>\n",
              "    </tr>\n",
              "    <tr>\n",
              "      <th>7</th>\n",
              "      <td>2016-11-26</td>\n",
              "      <td>33.02</td>\n",
              "    </tr>\n",
              "  </tbody>\n",
              "</table>\n",
              "</div>"
            ],
            "text/plain": [
              "        date   moneys\n",
              "0 2016-11-15  1484.76\n",
              "2 2016-11-21    13.99\n",
              "4 2016-11-23    15.14\n",
              "5 2016-11-23     6.00\n",
              "7 2016-11-26    33.02"
            ]
          },
          "metadata": {
            "tags": []
          }
        }
      ]
    },
    {
      "cell_type": "markdown",
      "metadata": {
        "id": "27judBmf-aoK",
        "colab_type": "text"
      },
      "source": [
        "# Data Processing\n",
        "Take the data and tally it up based on:\n",
        "  - Day of week\n",
        "  - Day of year\n",
        "  - Per Day"
      ]
    },
    {
      "cell_type": "code",
      "metadata": {
        "id": "hH6QPF6EVz7I",
        "colab_type": "code",
        "colab": {}
      },
      "source": [
        "dict_all = {}\n",
        "for df in dfs:\n",
        "  df['dow'] = df['date'].dt.weekday_name\n",
        "  df['doy'] = df['date'].apply(lambda x: x.timetuple().tm_yday)\n",
        "  \n",
        "  \n",
        "\n",
        "   \n",
        "metric = [0,0]\n",
        "\n",
        "dow_count = {'Sunday': [0,0], 'Monday': [0,0], 'Tuesday': [0,0], \n",
        "             'Wednesday': [0,0], 'Thursday': [0,0], 'Friday': [0,0],\n",
        "             'Saturday': [0,0]}\n",
        "\n",
        "for dow in dow_count:\n",
        "  for df in dfs:\n",
        "    dow_count[dow][0] += df[df['dow'] == dow].count()['dow']\n",
        "    dow_count[dow][1] += df[df['dow'] == dow].sum()['moneys']\n",
        "doy_counts = {}\n",
        "for i in range(0,366):\n",
        "  doy_counts[i] = [0,0]\n",
        "for day in doy_counts:\n",
        "  for df in dfs:\n",
        "    doy_counts[day][0] += df[df['doy'] == day].count()['doy']\n",
        "    doy_counts[day][1] += df[df['doy'] == day].sum()['moneys']\n",
        "\n",
        "count_dow=[]\n",
        "dollas_dow=[]\n",
        "for day in dow_count:\n",
        "  count_dow.append(dow_count.get(day)[0])\n",
        "  dollas_dow.append(dow_count.get(day)[1])    \n",
        "    \n",
        "\n",
        "count_doy=[]\n",
        "dollas_doy=[]\n",
        "for day in doy_counts:\n",
        "  count_doy.append(doy_counts.get(day)[0])\n",
        "  dollas_doy.append(doy_counts.get(day)[1])\n",
        "  \n",
        "  \n",
        "overall = pd.concat(dfs)"
      ],
      "execution_count": 0,
      "outputs": []
    },
    {
      "cell_type": "markdown",
      "metadata": {
        "id": "Voc6vrzb-nJj",
        "colab_type": "text"
      },
      "source": [
        "# Data Visualized"
      ]
    },
    {
      "cell_type": "code",
      "metadata": {
        "id": "_5a5PBPlx9F5",
        "colab_type": "code",
        "colab": {}
      },
      "source": [
        "#@title Day of Week\n",
        "counts = go.Scatter(\n",
        "    x = ['sunday','monday','tue','wed','thur','fri','sat'],\n",
        "    y = count_dow,\n",
        "    name=\"dates\"\n",
        ")\n",
        "\n",
        "money = go.Scatter(\n",
        "    x = ['sunday','monday','tue','wed','thur','fri','sat'],\n",
        "    y = dollas_dow,\n",
        "    name=\"moneys\",\n",
        "    yaxis='y2'\n",
        ")\n",
        "data = [counts, money]\n",
        "configure_plotly_browser_state()\n",
        "layout = go.Layout(\n",
        "    title='When I Buy and How much',\n",
        "    yaxis=dict(\n",
        "        title='Amount of Purchases'\n",
        "    ),\n",
        "    yaxis2=dict(\n",
        "        title='Amount of money spent',\n",
        "        titlefont=dict(\n",
        "            color='rgb(148, 103, 189)'\n",
        "        ),\n",
        "        tickfont=dict(\n",
        "            color='rgb(148, 103, 189)'\n",
        "        ),\n",
        "        overlaying='y',\n",
        "        side='right'\n",
        "    )\n",
        ")\n",
        "fig = go.Figure(data=data, layout=layout)\n",
        "py.iplot(fig)"
      ],
      "execution_count": 0,
      "outputs": []
    },
    {
      "cell_type": "code",
      "metadata": {
        "id": "CM54gjIZ2ILI",
        "colab_type": "code",
        "colab": {}
      },
      "source": [
        "#@title Day of Year\n",
        "counts = go.Scatter(\n",
        "    x = list(doy_counts.keys()),\n",
        "    y = count_doy,\n",
        "    name=\"dates\"\n",
        ")\n",
        "\n",
        "money = go.Scatter(\n",
        "    x = list(doy_counts.keys()),\n",
        "    y = dollas_doy,\n",
        "    name=\"moneys\",\n",
        "    yaxis='y2'\n",
        ")\n",
        "data = [counts, money]\n",
        "configure_plotly_browser_state()\n",
        "layout = go.Layout(\n",
        "    title='When I Buy and How much',\n",
        "    yaxis=dict(\n",
        "        title='Amount of Purchases'\n",
        "    ),\n",
        "    yaxis2=dict(\n",
        "        title='Amount of money spent',\n",
        "        titlefont=dict(\n",
        "            color='rgb(148, 103, 189)'\n",
        "        ),\n",
        "        tickfont=dict(\n",
        "            color='rgb(148, 103, 189)'\n",
        "        ),\n",
        "        overlaying='y',\n",
        "        side='right'\n",
        "    )\n",
        ")\n",
        "fig = go.Figure(data=data, layout=layout)\n",
        "py.iplot(fig)"
      ],
      "execution_count": 0,
      "outputs": []
    },
    {
      "cell_type": "code",
      "metadata": {
        "id": "Zw51zNazte9C",
        "colab_type": "code",
        "colab": {}
      },
      "source": [
        "#@title Overall\n",
        "counts = go.Scatter(\n",
        "    x = overall['date'],\n",
        "    y = overall['moneys'],\n",
        "    name=\"dates\",\n",
        "    mode = 'markers'\n",
        ")\n",
        "\n",
        "data = [counts]\n",
        "configure_plotly_browser_state()\n",
        "layout = go.Layout(\n",
        "    title='Overall',\n",
        "    yaxis=dict(\n",
        "        title='money spent'\n",
        "    )\n",
        ")\n",
        "fig = go.Figure(data=data, layout=layout)\n",
        "py.iplot(fig)"
      ],
      "execution_count": 0,
      "outputs": []
    },
    {
      "cell_type": "markdown",
      "metadata": {
        "id": "uHOHgaEw_zoZ",
        "colab_type": "text"
      },
      "source": [
        "# Training\n"
      ]
    },
    {
      "cell_type": "code",
      "metadata": {
        "id": "hnIw0h-X_3g5",
        "colab_type": "code",
        "colab": {}
      },
      "source": [
        "from fbprophet import Prophet"
      ],
      "execution_count": 0,
      "outputs": []
    },
    {
      "cell_type": "code",
      "metadata": {
        "id": "UZ6dJCrD6WMZ",
        "colab_type": "code",
        "colab": {}
      },
      "source": [
        ""
      ],
      "execution_count": 0,
      "outputs": []
    }
  ]
}